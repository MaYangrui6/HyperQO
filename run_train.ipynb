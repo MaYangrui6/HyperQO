{
 "cells": [
  {
   "cell_type": "code",
   "execution_count": 1,
   "id": "e5ec7478-eef9-4a2e-a69f-a6b3aec72129",
   "metadata": {
    "tags": [],
    "pycharm": {
     "name": "#%%\n"
    }
   },
   "outputs": [
    {
     "ename": "ModuleNotFoundError",
     "evalue": "No module named 'ImportantConfig'",
     "output_type": "error",
     "traceback": [
      "\u001B[0;31m---------------------------------------------------------------------------\u001B[0m",
      "\u001B[0;31mModuleNotFoundError\u001B[0m                       Traceback (most recent call last)",
      "Cell \u001B[0;32mIn[1], line 4\u001B[0m\n\u001B[1;32m      2\u001B[0m \u001B[38;5;28;01mimport\u001B[39;00m \u001B[38;5;21;01mtorch\u001B[39;00m\n\u001B[1;32m      3\u001B[0m \u001B[38;5;28;01mimport\u001B[39;00m \u001B[38;5;21;01msys\u001B[39;00m\n\u001B[0;32m----> 4\u001B[0m \u001B[38;5;28;01mfrom\u001B[39;00m \u001B[38;5;21;01mImportantConfig\u001B[39;00m \u001B[38;5;28;01mimport\u001B[39;00m Config\n\u001B[1;32m      5\u001B[0m config \u001B[38;5;241m=\u001B[39m Config()\n\u001B[1;32m      6\u001B[0m \u001B[38;5;28;01mfrom\u001B[39;00m \u001B[38;5;21;01msql2fea\u001B[39;00m \u001B[38;5;28;01mimport\u001B[39;00m TreeBuilder,value_extractor\n",
      "\u001B[0;31mModuleNotFoundError\u001B[0m: No module named 'ImportantConfig'"
     ]
    }
   ],
   "source": [
    "import random\n",
    "import torch\n",
    "import sys\n",
    "from ImportantConfig import Config\n",
    "config = Config()\n",
    "from sql2fea import TreeBuilder,value_extractor\n",
    "from NET import TreeNet\n",
    "from sql2fea import Sql2Vec\n",
    "from TreeLSTM import SPINN\n",
    "\n",
    "sys.path.append('/home/ubuntu/project/HyperQO')\n",
    "\n",
    "sys.stdout = open(config.log_file, \"w\")\n",
    "random.seed(113)\n",
    "with open(config.queries_file) as f:\n",
    "    import json\n",
    "    queries = json.load(f)\n",
    "\n",
    "tree_builder = TreeBuilder()\n",
    "sql2vec = Sql2Vec()\n",
    "value_network = SPINN(head_num=config.head_num, input_size=37, hidden_size=config.hidden_size, table_num = 50,sql_size = 1).to(config.device)\n",
    "for name, param in value_network.named_parameters():\n",
    "    from torch.nn import init\n",
    "    if len(param.shape)==2:\n",
    "        init.xavier_normal(param)\n",
    "    else:\n",
    "        init.uniform(param)\n",
    "\n",
    "\n",
    "treenet_model = TreeNet(tree_builder, value_network)\n",
    "\n",
    "mask = (torch.rand(1,config.head_num,device = config.device)<0.9).long()"
   ]
  },
  {
   "cell_type": "code",
   "execution_count": null,
   "id": "dd35972b-1bb4-42bc-8cf5-398acdb80ba9",
   "metadata": {
    "tags": [],
    "pycharm": {
     "name": "#%%\n"
    }
   },
   "outputs": [],
   "source": [
    "import pandas as pd\n",
    "train=pd.read_csv('./information/train.csv', index_col=0)\n",
    "queries=train['query'].values\n",
    "train.head()"
   ]
  },
  {
   "cell_type": "code",
   "execution_count": null,
   "id": "791c6b5e-42a7-4838-b4ec-c5f78cfd1650",
   "metadata": {
    "tags": [],
    "pycharm": {
     "name": "#%%\n"
    }
   },
   "outputs": [],
   "source": [
    "x=torch.tensor(train.index)\n",
    "y=torch.tensor(train['cost_reduction_ratio'].values)"
   ]
  },
  {
   "cell_type": "code",
   "execution_count": null,
   "id": "80225c05-d091-4058-9d42-4d82b631ca58",
   "metadata": {
    "tags": [],
    "pycharm": {
     "name": "#%%\n"
    }
   },
   "outputs": [],
   "source": [
    "len(queries)"
   ]
  },
  {
   "cell_type": "markdown",
   "id": "82066ae9-dae9-4513-9407-175dd15d7df5",
   "metadata": {
    "pycharm": {
     "name": "#%% md\n"
    }
   },
   "source": [
    "###  训练模型"
   ]
  },
  {
   "cell_type": "code",
   "execution_count": null,
   "id": "2a9e3965-5d48-463c-a78b-5af9fe0ba964",
   "metadata": {
    "tags": [],
    "pycharm": {
     "name": "#%%\n"
    }
   },
   "outputs": [],
   "source": [
    "import torch\n",
    "import torch.nn as nn\n",
    "import torch.optim as optim\n",
    "import torch.utils.data as Data\n",
    "from PGUtils import pgrunner\n",
    "import numpy as np\n",
    "\n",
    "# 定义损失函数和优化器\n",
    "criterion = nn.MSELoss()  # 例如，均方误差损失\n",
    "optimizer = treenet_model.optimizer   # 例如，Adam 优化器\n",
    "\n",
    "Batch_Size = 32\n",
    "torch_dataset = Data.TensorDataset(x, y)\n",
    "\n",
    "\n",
    "# 训练循环\n",
    "for epoch in range(1):  # 例如，训练多个 epochs\n",
    "    loader = Data.DataLoader(dataset=torch_dataset,\n",
    "                         batch_size=Batch_Size,\n",
    "                         shuffle=True)\n",
    "    for batch_x, batch_y in loader:\n",
    "        optimizer.zero_grad()  # 每个批次前先清零梯度\n",
    "        batch_loss = 0\n",
    "        for num in range(Batch_Size):\n",
    "            sql = queries[batch_x[num]]\n",
    "            target_value = batch_y[num]\n",
    "            plan_json = pgrunner.getCostPlanJson(sql)\n",
    "            sql_vec=np.array([1])\n",
    "\n",
    "            # 计算损失\n",
    "            loss, mean, variance, exp_variance = treenet_model.train(plan_json, sql_vec, target_value, mask, is_train=False)\n",
    "            \n",
    "            batch_loss += loss  # 累积批次损失\n",
    "            \n",
    "        display(batch_loss/Batch_Size)\n",
    "        # 反向传播和参数更新\n",
    "        batch_loss.backward()\n",
    "        optimizer.step()"
   ]
  },
  {
   "cell_type": "code",
   "execution_count": null,
   "id": "ff281497-4789-46f4-9b57-45db836ad69e",
   "metadata": {
    "pycharm": {
     "name": "#%%\n"
    }
   },
   "outputs": [],
   "source": [
    "with torch.no_grad():\n",
    "    for test_batch_data in train_dataloader[-9:]:\n",
    "        sql = queries[batch_x[num]]\n",
    "        target_value = batch_y[num]\n",
    "        plan_json = pgrunner.getCostPlanJson(sql)\n",
    "        sql_vec=np.array([1])\n",
    "        # 计算损失\n",
    "        loss, mean, variance, exp_variance = treenet_model.train(plan_json, sql_vec, target_value, mask, is_train=False)\n",
    "        display(mean)"
   ]
  },
  {
   "cell_type": "code",
   "execution_count": null,
   "id": "4fd460ca-b440-4836-a6e9-18a2c93159c6",
   "metadata": {
    "pycharm": {
     "name": "#%%\n"
    }
   },
   "outputs": [],
   "source": [
    "[x[2] for x in train_dataloader[-9:]]"
   ]
  }
 ],
 "metadata": {
  "kernelspec": {
   "display_name": "Python 3 (ipykernel)",
   "language": "python",
   "name": "python3"
  },
  "language_info": {
   "codemirror_mode": {
    "name": "ipython",
    "version": 3
   },
   "file_extension": ".py",
   "mimetype": "text/x-python",
   "name": "python",
   "nbconvert_exporter": "python",
   "pygments_lexer": "ipython3",
   "version": "3.11.5"
  }
 },
 "nbformat": 4,
 "nbformat_minor": 5
}