{
 "cells": [
  {
   "cell_type": "code",
   "execution_count": 1,
   "metadata": {},
   "outputs": [
    {
     "name": "stdout",
     "output_type": "stream",
     "text": [
      "PostgreSQL 版本: ('PostgreSQL 12.15 (Ubuntu 12.15-1.pgdg18.04+1) on x86_64-pc-linux-gnu, compiled by gcc (Ubuntu 7.5.0-3ubuntu1~18.04) 7.5.0, 64-bit',)\n"
     ]
    }
   ],
   "source": [
    "import psycopg2\n",
    "from psycopg2 import sql\n",
    "\n",
    "# 替换以下信息为你的数据库信息\n",
    "database_params = {\n",
    "    'dbname': 'tpcds',\n",
    "    'user': 'postgres',\n",
    "    'password': 'postgres',\n",
    "    'host': '127.0.0.1',\n",
    "    'port': '5432'\n",
    "}\n",
    "\n",
    "# 尝试连接数据库\n",
    "try:\n",
    "    # 使用 **params 将参数传递给 connect 函数\n",
    "    connection = psycopg2.connect(**database_params)\n",
    "    \n",
    "    # 创建一个游标对象\n",
    "    cursor = connection.cursor()\n",
    "    \n",
    "    # 执行一个简单的 SQL 查询\n",
    "    cursor.execute(sql.SQL(\"SELECT version()\"))\n",
    "    \n",
    "    # 获取查询结果\n",
    "    db_version = cursor.fetchone()\n",
    "    \n",
    "    # 打印结果\n",
    "    print(\"PostgreSQL 版本:\", db_version)\n",
    "\n",
    "except Exception as e:\n",
    "    print(\"连接数据库时发生错误:\", e)\n",
    "\n",
    "finally:\n",
    "    # 关闭游标和连接\n",
    "    if cursor:\n",
    "        cursor.close()\n",
    "    if connection:\n",
    "        connection.close()"
   ]
  },
  {
   "cell_type": "code",
   "execution_count": 2,
   "metadata": {},
   "outputs": [
    {
     "name": "stdout",
     "output_type": "stream",
     "text": [
      " \t\t\t\tand (cast('2002-02-12' as date) + interval '30' day)\n",
      " group by i_item_\n"
     ]
    }
   ],
   "source": [
    "import re\n",
    "\n",
    "def replace_days_syntax(sql_query):\n",
    "    # 使用正则表达式匹配带有 'days' 的日期操作，并替换为 'interval' 形式\n",
    "    modified_sql = re.sub(r\"\\b(\\d+)\\s+days\\b\", r\"interval '\\1' day\", sql_query, flags=re.IGNORECASE)\n",
    "    return modified_sql\n",
    "\n",
    "# 示例 SQL 查询\n",
    "original_query = \" \\t\\t\\t\\tand (cast('2002-02-12' as date) + 30 days)\\n group by i_item_\"\n",
    "\n",
    "# 调用替换函数\n",
    "modified_query = replace_days_syntax(original_query)\n",
    "\n",
    "# 输出替换后的查询\n",
    "print(modified_query)"
   ]
  },
  {
   "cell_type": "code",
   "execution_count": 4,
   "metadata": {},
   "outputs": [],
   "source": [
    "# import os\n",
    "# import glob\n",
    "\n",
    "# def read_sql_files(folder_path):\n",
    "#     # 获取指定文件夹下的所有 SQL 文件\n",
    "#     sql_files = glob.glob(os.path.join(folder_path, '*.sql'))\n",
    "\n",
    "#     # 读取每个 SQL 文件的内容\n",
    "#     sql_queries = []\n",
    "#     for sql_file in sql_files:\n",
    "#         with open(sql_file, 'r') as file:\n",
    "#             query = file.read()\n",
    "#             sql_queries.append(query)\n",
    "\n",
    "#     return sql_queries\n",
    "\n",
    "# # 指定包含 SQL 文件的文件夹路径\n",
    "# folder_path = '/home/ubuntu/data/tpcds-kit/queries/separated'\n",
    "\n",
    "# # 读取所有 SQL 文件\n",
    "# queries_ = read_sql_files(folder_path)\n",
    "# queries = [replace_days_syntax(q) for q in queries_]  #修复识别 days\n",
    "\n",
    "# # 打印每个查询\n",
    "# for i, query in enumerate(queries[:2], start=1):\n",
    "#     print(f\"Query {i}:\\n{query}\\n{'='*30}\")"
   ]
  },
  {
   "cell_type": "code",
   "execution_count": null,
   "metadata": {},
   "outputs": [],
   "source": []
  },
  {
   "cell_type": "markdown",
   "metadata": {},
   "source": [
    "## 重新统计操作算子"
   ]
  },
  {
   "cell_type": "code",
   "execution_count": 4,
   "metadata": {},
   "outputs": [
    {
     "data": {
      "text/plain": [
       "14400"
      ]
     },
     "execution_count": 4,
     "metadata": {},
     "output_type": "execute_result"
    }
   ],
   "source": [
    "import pandas as pd\n",
    "queries_df=pd.read_csv(\"./information/queries_filter.csv\")\n",
    "queries_=queries_df['query'].values\n",
    "queries = [replace_days_syntax(q) for q in queries_]  #修复识别 days\n",
    "len(queries)"
   ]
  },
  {
   "cell_type": "code",
   "execution_count": 5,
   "metadata": {},
   "outputs": [],
   "source": [
    "# import psycopg2\n",
    "# from PGUtils import pgrunner\n",
    "# import json\n",
    "\n",
    "# db_params = {\n",
    "# 'dbname' : 'tpcds',\n",
    "# 'user' : 'postgres',\n",
    "# 'password' : 'postgres',\n",
    "# 'host' : '127.0.0.1',\n",
    "# 'port' : '5432'\n",
    "# }\n",
    "\n",
    "# def extract_operators_from_plan(plan):\n",
    "#     operators = [step['Node Type'] for step in plan.get('Plans', [])]\n",
    "#     for nested_plan in plan.get('Plans', []):\n",
    "#         operators.extend(extract_operators_from_plan(nested_plan))\n",
    "#     return operators\n",
    "\n",
    "# def get_execution_plan_operators(query):\n",
    "#     conn = psycopg2.connect(**db_params)\n",
    "#     cursor = conn.cursor()\n",
    "\n",
    "#     try:\n",
    "#         # 获取执行计划\n",
    "#         explain_query = f\"EXPLAIN (FORMAT JSON) {query}\"\n",
    "#         cursor.execute(explain_query)\n",
    "#         explain_result = cursor.fetchone()\n",
    "#         # 解析执行计划中的操作算子类型\n",
    "#         plan_json = explain_result[0] if isinstance(explain_result, tuple) and len(explain_result) > 0 else explain_result\n",
    "#         plan_jsons.append(plan_json[0])\n",
    "#         get_queries.append(query)\n",
    "#         print(\"plan_json\",plan_json)\n",
    "#         operators = [plan_json[0]['Plan']['Node Type']]\n",
    "#         for plan_data in plan_json:\n",
    "#             operators.extend(extract_operators_from_plan(plan_data['Plan']))\n",
    "\n",
    "#         return operators\n",
    "\n",
    "#     finally:\n",
    "#         cursor.close()\n",
    "#         conn.close()\n",
    "\n",
    "# # 统计所有查询的操作算子类型\n",
    "# all_operators = []\n",
    "# plan_jsons=[]\n",
    "# get_queries=[]\n",
    "# error_sql=[]\n",
    "# cnt=1\n",
    "# for query in queries:\n",
    "#     try:\n",
    "#         operators = get_execution_plan_operators(query)\n",
    "#         all_operators.extend(operators)\n",
    "#         print(cnt, query)\n",
    "#         cnt += 1\n",
    "#     except Exception as e:\n",
    "#         error_sql.append(query)\n",
    "#         print(f\"Error processing query {cnt}: {str(e)}\")\n",
    "#         # 可以选择在这里添加其他处理逻辑，例如记录错误信息或者直接跳过\n",
    "#         pass\n",
    "# print(\"count:\",cnt)\n",
    "# # 统计操作算子类型的数量\n",
    "# operator_counts = {}\n",
    "# for operator in all_operators:\n",
    "#     operator_counts[operator] = operator_counts.get(operator, 0) + 1\n",
    "\n",
    "# # 打印结果\n",
    "# print(\"操作算子类型统计:\")\n",
    "# for operator, count in operator_counts.items():\n",
    "#     print(f\"{operator}: {count} 次\")"
   ]
  },
  {
   "cell_type": "code",
   "execution_count": 13,
   "metadata": {},
   "outputs": [
    {
     "data": {
      "text/plain": [
       "(14400, 14400)"
      ]
     },
     "execution_count": 13,
     "metadata": {},
     "output_type": "execute_result"
    }
   ],
   "source": [
    "len(plan_jsons),len(queries)"
   ]
  },
  {
   "cell_type": "code",
   "execution_count": null,
   "metadata": {},
   "outputs": [
    {
     "data": {
      "text/html": [
       "<div>\n",
       "<style scoped>\n",
       "    .dataframe tbody tr th:only-of-type {\n",
       "        vertical-align: middle;\n",
       "    }\n",
       "\n",
       "    .dataframe tbody tr th {\n",
       "        vertical-align: top;\n",
       "    }\n",
       "\n",
       "    .dataframe thead th {\n",
       "        text-align: right;\n",
       "    }\n",
       "</style>\n",
       "<table border=\"1\" class=\"dataframe\">\n",
       "  <thead>\n",
       "    <tr style=\"text-align: right;\">\n",
       "      <th></th>\n",
       "      <th>query_id</th>\n",
       "      <th>query</th>\n",
       "    </tr>\n",
       "  </thead>\n",
       "  <tbody>\n",
       "    <tr>\n",
       "      <th>0</th>\n",
       "      <td>1</td>\n",
       "      <td>select  channel, col_name, d_year, d_qoy, i_ca...</td>\n",
       "    </tr>\n",
       "    <tr>\n",
       "      <th>1</th>\n",
       "      <td>2</td>\n",
       "      <td>select  i_item_id, \\n        avg(ss_quantity) ...</td>\n",
       "    </tr>\n",
       "    <tr>\n",
       "      <th>2</th>\n",
       "      <td>3</td>\n",
       "      <td>select sum (ss_quantity)\\n from store_sales, s...</td>\n",
       "    </tr>\n",
       "    <tr>\n",
       "      <th>3</th>\n",
       "      <td>4</td>\n",
       "      <td>select  i_item_id\\n       ,i_item_desc \\n     ...</td>\n",
       "    </tr>\n",
       "    <tr>\n",
       "      <th>4</th>\n",
       "      <td>5</td>\n",
       "      <td>with ss_items as\\n (select i_item_id item_id\\n...</td>\n",
       "    </tr>\n",
       "  </tbody>\n",
       "</table>\n",
       "</div>"
      ],
      "text/plain": [
       "   query_id                                              query\n",
       "0         1  select  channel, col_name, d_year, d_qoy, i_ca...\n",
       "1         2  select  i_item_id, \\n        avg(ss_quantity) ...\n",
       "2         3  select sum (ss_quantity)\\n from store_sales, s...\n",
       "3         4  select  i_item_id\\n       ,i_item_desc \\n     ...\n",
       "4         5  with ss_items as\\n (select i_item_id item_id\\n..."
      ]
     },
     "execution_count": 9,
     "metadata": {},
     "output_type": "execute_result"
    }
   ],
   "source": [
    "import pandas as pd\n",
    "\n",
    "# 假设 queries 和 plan_json 是两个列表，分别存储查询和对应的执行计划 JSON\n",
    "# queries = [\"SELECT * FROM table1;\", \"SELECT * FROM table2;\"]\n",
    "# plan_json = [{\"plan\": \"json1\"}, {\"plan\": \"json2\"}]\n",
    "\n",
    "# 创建一个 DataFrame\n",
    "df = pd.DataFrame({\"query_id\": list(range(1,17814)),\"query\": get_queries})\n",
    "\n",
    "# 将 DataFrame 保存为 CSV 文件\n",
    "df.to_csv(\"./queries.csv\", index=False)\n",
    "df.head()"
   ]
  },
  {
   "cell_type": "code",
   "execution_count": 14,
   "metadata": {},
   "outputs": [
    {
     "name": "stdout",
     "output_type": "stream",
     "text": [
      "['Limit', 'Aggregate', 'Gather Merge', 'Sort', 'Nested Loop', 'Index Scan', 'Hash Join', 'Hash', 'Seq Scan', 'Gather', 'WindowAgg', 'Merge Join', 'Materialize', 'Subquery Scan', 'Group', 'Index Only Scan', 'CTE Scan', 'SetOp', 'Append', 'Result', 'Unique', 'Bitmap Heap Scan', 'Bitmap Index Scan']\n"
     ]
    },
    {
     "data": {
      "text/plain": [
       "(23, None)"
      ]
     },
     "execution_count": 14,
     "metadata": {},
     "output_type": "execute_result"
    }
   ],
   "source": [
    "len(operator_counts),print([k for k,_ in operator_counts.items()])"
   ]
  },
  {
   "cell_type": "code",
   "execution_count": 6,
   "metadata": {},
   "outputs": [],
   "source": [
    "import json\n",
    "\n",
    "# 将字典保存为 JSON 文件\n",
    "with open('./information/operater_counts.json', 'w') as json_file:\n",
    "    json.dump(operator_counts, json_file)"
   ]
  },
  {
   "cell_type": "code",
   "execution_count": null,
   "metadata": {},
   "outputs": [
    {
     "data": {
      "text/plain": [
       "['Limit',\n",
       " 'Aggregate',\n",
       " 'Gather Merge',\n",
       " 'Sort',\n",
       " 'Append',\n",
       " 'Hash Join',\n",
       " 'Nested Loop',\n",
       " 'Hash',\n",
       " 'Seq Scan',\n",
       " 'Index Scan',\n",
       " 'Gather',\n",
       " 'WindowAgg',\n",
       " 'Merge Join',\n",
       " 'Materialize',\n",
       " 'Subquery Scan',\n",
       " 'CTE Scan',\n",
       " 'Group',\n",
       " 'Index Only Scan',\n",
       " 'Bitmap Heap Scan',\n",
       " 'Bitmap Index Scan',\n",
       " 'SetOp',\n",
       " 'Result',\n",
       " 'Unique',\n",
       " 'Merge Append']"
      ]
     },
     "execution_count": 28,
     "metadata": {},
     "output_type": "execute_result"
    }
   ],
   "source": [
    "with open('./information/operater_counts.json', 'r') as json_file:\n",
    "    loaded_dict = json.load(json_file)\n",
    "\n",
    "[k for k,_ in loaded_dict.items()]"
   ]
  },
  {
   "cell_type": "code",
   "execution_count": 6,
   "metadata": {},
   "outputs": [],
   "source": [
    "# import psycopg2\n",
    "# from PGUtils import pgrunner\n",
    "# import json\n",
    "\n",
    "# db_params = {\n",
    "# 'dbname' : 'tpcds',\n",
    "# 'user' : 'postgres',\n",
    "# 'password' : 'postgres',\n",
    "# 'host' : '127.0.0.1',\n",
    "# 'port' : '5432'\n",
    "# }\n",
    "\n",
    "# def extract_operators_from_plan(plan):\n",
    "#     operators = [step['Node Type'] for step in plan.get('Plans', [])]\n",
    "#     for nested_plan in plan.get('Plans', []):\n",
    "#         operators.extend(extract_operators_from_plan(nested_plan))\n",
    "#     return operators\n",
    "\n",
    "# def get_execution_plan_operators(query):\n",
    "#     conn = psycopg2.connect(**db_params)\n",
    "#     cursor = conn.cursor()\n",
    "\n",
    "#     try:\n",
    "#         # 获取执行计划\n",
    "#         explain_query = f\"EXPLAIN (FORMAT JSON) {query}\"\n",
    "#         cursor.execute(explain_query)\n",
    "#         explain_result = cursor.fetchall()\n",
    "\n",
    "#         # 解析执行计划中的操作算子类型\n",
    "#         plan_json = explain_result[0] if isinstance(explain_result, tuple) and len(explain_result) > 0 else explain_result\n",
    "#         print(\"plan_json:\",plan_json)\n",
    "#         # 由于可能是多个执行计划，循环处理每个计划\n",
    "#         operators = [plan_json[0]['Plan']['Node Type']]\n",
    "#         for plan_data in plan_json:\n",
    "#             operators.extend(extract_operators_from_plan(plan_data['Plan']))\n",
    "\n",
    "#         return operators\n",
    "\n",
    "#     finally:\n",
    "#         cursor.close()\n",
    "#         conn.close()\n",
    "\n",
    "# # 统计所有查询的操作算子类型\n",
    "# all_operators = []\n",
    "# cnt=1\n",
    "# operators = get_execution_plan_operators(replace_days_syntax(error_sql[1]))\n",
    "# all_operators.extend(operators)\n",
    "# print(cnt, query)\n",
    "# # 统计操作算子类型的数量\n",
    "# operator_counts = {}\n",
    "# for operator in all_operators:\n",
    "#     operator_counts[operator] = operator_counts.get(operator, 0) + 1\n",
    "\n",
    "# # 打印结果\n",
    "# print(\"操作算子类型统计:\")\n",
    "# for operator, count in operator_counts.items():\n",
    "#     print(f\"{operator}: {count} 次\")"
   ]
  },
  {
   "cell_type": "code",
   "execution_count": null,
   "metadata": {},
   "outputs": [],
   "source": []
  }
 ],
 "metadata": {
  "kernelspec": {
   "display_name": "base",
   "language": "python",
   "name": "python3"
  },
  "language_info": {
   "codemirror_mode": {
    "name": "ipython",
    "version": 3
   },
   "file_extension": ".py",
   "mimetype": "text/x-python",
   "name": "python",
   "nbconvert_exporter": "python",
   "pygments_lexer": "ipython3",
   "version": "3.11.5"
  }
 },
 "nbformat": 4,
 "nbformat_minor": 2
}
