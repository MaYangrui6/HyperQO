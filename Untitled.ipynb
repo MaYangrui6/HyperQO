{
 "cells": [
  {
   "cell_type": "code",
   "execution_count": 5,
   "id": "d8625865-57ea-491d-9b2c-8ac95a874ebc",
   "metadata": {
    "ExecuteTime": {
     "end_time": "2024-02-28T08:35:31.597610600Z",
     "start_time": "2024-02-28T08:35:31.574611300Z"
    },
    "pycharm": {
     "name": "#%%\n"
    }
   },
   "outputs": [],
   "source": [
    "import pandas as pd"
   ]
  },
  {
   "cell_type": "code",
   "execution_count": 7,
   "id": "14e9aaa7-dcd1-44c4-9105-a1ce466984c5",
   "metadata": {
    "ExecuteTime": {
     "end_time": "2024-02-28T08:36:05.986191Z",
     "start_time": "2024-02-28T08:36:05.079579800Z"
    },
    "pycharm": {
     "name": "#%%\n"
    }
   },
   "outputs": [
    {
     "data": {
      "text/html": [
       "<div>\n",
       "<style scoped>\n",
       "    .dataframe tbody tr th:only-of-type {\n",
       "        vertical-align: middle;\n",
       "    }\n",
       "\n",
       "    .dataframe tbody tr th {\n",
       "        vertical-align: top;\n",
       "    }\n",
       "\n",
       "    .dataframe thead th {\n",
       "        text-align: right;\n",
       "    }\n",
       "</style>\n",
       "<table border=\"1\" class=\"dataframe\">\n",
       "  <thead>\n",
       "    <tr style=\"text-align: right;\">\n",
       "      <th></th>\n",
       "      <th>Unnamed: 0</th>\n",
       "      <th>query</th>\n",
       "      <th>cost_no_index</th>\n",
       "      <th>cost_dta</th>\n",
       "      <th>cost_reduction</th>\n",
       "      <th>cost_reduction_ratio</th>\n",
       "    </tr>\n",
       "  </thead>\n",
       "  <tbody>\n",
       "    <tr>\n",
       "      <th>0</th>\n",
       "      <td>0</td>\n",
       "      <td>select  i_item_id, \\n        avg(ss_quantity) ...</td>\n",
       "      <td>108534.81</td>\n",
       "      <td>69925.31</td>\n",
       "      <td>38609.50</td>\n",
       "      <td>0.355734</td>\n",
       "    </tr>\n",
       "    <tr>\n",
       "      <th>1</th>\n",
       "      <td>1</td>\n",
       "      <td>select sum (ss_quantity)\\n from store_sales, s...</td>\n",
       "      <td>147137.68</td>\n",
       "      <td>86652.87</td>\n",
       "      <td>60484.81</td>\n",
       "      <td>0.411076</td>\n",
       "    </tr>\n",
       "    <tr>\n",
       "      <th>2</th>\n",
       "      <td>2</td>\n",
       "      <td>select  i_item_id\\n       ,i_item_desc \\n     ...</td>\n",
       "      <td>50155.33</td>\n",
       "      <td>3944.83</td>\n",
       "      <td>46210.50</td>\n",
       "      <td>0.921348</td>\n",
       "    </tr>\n",
       "    <tr>\n",
       "      <th>3</th>\n",
       "      <td>3</td>\n",
       "      <td>with ss_items as\\n (select i_item_id item_id\\n...</td>\n",
       "      <td>162566.89</td>\n",
       "      <td>839.12</td>\n",
       "      <td>161727.77</td>\n",
       "      <td>0.994838</td>\n",
       "    </tr>\n",
       "    <tr>\n",
       "      <th>4</th>\n",
       "      <td>4</td>\n",
       "      <td>select  asceding.rnk, i1.i_product_name best_p...</td>\n",
       "      <td>274060.77</td>\n",
       "      <td>48.66</td>\n",
       "      <td>274012.11</td>\n",
       "      <td>0.999822</td>\n",
       "    </tr>\n",
       "  </tbody>\n",
       "</table>\n",
       "</div>"
      ],
      "text/plain": [
       "   Unnamed: 0                                              query  \\\n",
       "0           0  select  i_item_id, \\n        avg(ss_quantity) ...   \n",
       "1           1  select sum (ss_quantity)\\n from store_sales, s...   \n",
       "2           2  select  i_item_id\\n       ,i_item_desc \\n     ...   \n",
       "3           3  with ss_items as\\n (select i_item_id item_id\\n...   \n",
       "4           4  select  asceding.rnk, i1.i_product_name best_p...   \n",
       "\n",
       "   cost_no_index  cost_dta  cost_reduction  cost_reduction_ratio  \n",
       "0      108534.81  69925.31        38609.50              0.355734  \n",
       "1      147137.68  86652.87        60484.81              0.411076  \n",
       "2       50155.33   3944.83        46210.50              0.921348  \n",
       "3      162566.89    839.12       161727.77              0.994838  \n",
       "4      274060.77     48.66       274012.11              0.999822  "
      ]
     },
     "execution_count": 7,
     "metadata": {},
     "output_type": "execute_result"
    }
   ],
   "source": [
    "df = pd.read_csv(\"./information/train.csv\")\n",
    "df.head()"
   ]
  },
  {
   "cell_type": "code",
   "execution_count": 4,
   "id": "7459be88-c8a6-4279-9805-7456c895fc0d",
   "metadata": {
    "pycharm": {
     "name": "#%%\n"
    }
   },
   "outputs": [
    {
     "data": {
      "text/plain": [
       "14400"
      ]
     },
     "execution_count": 4,
     "metadata": {},
     "output_type": "execute_result"
    }
   ],
   "source": [
    "from PGUtils import PGGRunner\n",
    "plan_jsons = []\n",
    "pgrunner = PGGRunner(dbname=\"tpcds\", user=\"postgres\")\n",
    "for sql in df[\"query\"].values:\n",
    "    plan_jsons.append(pgrunner.getCostPlanJson(sql))\n",
    "len(plan_jsons)"
   ]
  },
  {
   "cell_type": "code",
   "execution_count": 6,
   "id": "7c0919ad-325c-4196-9584-87869a09fa79",
   "metadata": {
    "pycharm": {
     "name": "#%%\n"
    }
   },
   "outputs": [
    {
     "data": {
      "text/plain": [
       "{'Plan': {'Node Type': 'Limit',\n",
       "  'Parallel Aware': False,\n",
       "  'Startup Cost': 72519.65,\n",
       "  'Total Cost': 72534.33,\n",
       "  'Plan Rows': 100,\n",
       "  'Plan Width': 145,\n",
       "  'Plans': [{'Node Type': 'Aggregate',\n",
       "    'Strategy': 'Sorted',\n",
       "    'Partial Mode': 'Finalize',\n",
       "    'Parent Relationship': 'Outer',\n",
       "    'Parallel Aware': False,\n",
       "    'Startup Cost': 72519.65,\n",
       "    'Total Cost': 72545.64,\n",
       "    'Plan Rows': 177,\n",
       "    'Plan Width': 145,\n",
       "    'Group Key': ['item.i_item_id'],\n",
       "    'Plans': [{'Node Type': 'Gather Merge',\n",
       "      'Parent Relationship': 'Outer',\n",
       "      'Parallel Aware': False,\n",
       "      'Startup Cost': 72519.65,\n",
       "      'Total Cost': 72539.14,\n",
       "      'Plan Rows': 148,\n",
       "      'Plan Width': 145,\n",
       "      'Workers Planned': 2,\n",
       "      'Plans': [{'Node Type': 'Aggregate',\n",
       "        'Strategy': 'Sorted',\n",
       "        'Partial Mode': 'Partial',\n",
       "        'Parent Relationship': 'Outer',\n",
       "        'Parallel Aware': False,\n",
       "        'Startup Cost': 71519.62,\n",
       "        'Total Cost': 71522.03,\n",
       "        'Plan Rows': 74,\n",
       "        'Plan Width': 145,\n",
       "        'Group Key': ['item.i_item_id'],\n",
       "        'Plans': [{'Node Type': 'Sort',\n",
       "          'Parent Relationship': 'Outer',\n",
       "          'Parallel Aware': False,\n",
       "          'Startup Cost': 71519.62,\n",
       "          'Total Cost': 71519.81,\n",
       "          'Plan Rows': 74,\n",
       "          'Plan Width': 36,\n",
       "          'Sort Key': ['item.i_item_id'],\n",
       "          'Plans': [{'Node Type': 'Nested Loop',\n",
       "            'Parent Relationship': 'Outer',\n",
       "            'Parallel Aware': False,\n",
       "            'Join Type': 'Inner',\n",
       "            'Startup Cost': 1961.76,\n",
       "            'Total Cost': 71517.33,\n",
       "            'Plan Rows': 74,\n",
       "            'Plan Width': 36,\n",
       "            'Inner Unique': True,\n",
       "            'Plans': [{'Node Type': 'Nested Loop',\n",
       "              'Parent Relationship': 'Outer',\n",
       "              'Parallel Aware': False,\n",
       "              'Join Type': 'Inner',\n",
       "              'Startup Cost': 1961.48,\n",
       "              'Total Cost': 71494.63,\n",
       "              'Plan Rows': 74,\n",
       "              'Plan Width': 23,\n",
       "              'Inner Unique': True,\n",
       "              'Plans': [{'Node Type': 'Hash Join',\n",
       "                'Parent Relationship': 'Outer',\n",
       "                'Parallel Aware': False,\n",
       "                'Join Type': 'Inner',\n",
       "                'Startup Cost': 1961.05,\n",
       "                'Total Cost': 68823.41,\n",
       "                'Plan Rows': 5450,\n",
       "                'Plan Width': 27,\n",
       "                'Inner Unique': True,\n",
       "                'Hash Cond': '(store_sales.ss_promo_sk = promotion.p_promo_sk)',\n",
       "                'Plans': [{'Node Type': 'Hash Join',\n",
       "                  'Parent Relationship': 'Outer',\n",
       "                  'Parallel Aware': True,\n",
       "                  'Join Type': 'Inner',\n",
       "                  'Startup Cost': 1944.8,\n",
       "                  'Total Cost': 68791.97,\n",
       "                  'Plan Rows': 5710,\n",
       "                  'Plan Width': 31,\n",
       "                  'Inner Unique': True,\n",
       "                  'Hash Cond': '(store_sales.ss_sold_date_sk = date_dim.d_date_sk)',\n",
       "                  'Plans': [{'Node Type': 'Seq Scan',\n",
       "                    'Parent Relationship': 'Outer',\n",
       "                    'Parallel Aware': True,\n",
       "                    'Relation Name': 'store_sales',\n",
       "                    'Alias': 'store_sales',\n",
       "                    'Startup Cost': 0.0,\n",
       "                    'Total Cost': 63696.79,\n",
       "                    'Plan Rows': 1200079,\n",
       "                    'Plan Width': 35},\n",
       "                   {'Node Type': 'Hash',\n",
       "                    'Parent Relationship': 'Inner',\n",
       "                    'Parallel Aware': True,\n",
       "                    'Startup Cost': 1942.12,\n",
       "                    'Total Cost': 1942.12,\n",
       "                    'Plan Rows': 214,\n",
       "                    'Plan Width': 4,\n",
       "                    'Plans': [{'Node Type': 'Seq Scan',\n",
       "                      'Parent Relationship': 'Outer',\n",
       "                      'Parallel Aware': True,\n",
       "                      'Relation Name': 'date_dim',\n",
       "                      'Alias': 'date_dim',\n",
       "                      'Startup Cost': 0.0,\n",
       "                      'Total Cost': 1942.12,\n",
       "                      'Plan Rows': 214,\n",
       "                      'Plan Width': 4,\n",
       "                      'Filter': '(d_year = 1999)'}]}]},\n",
       "                 {'Node Type': 'Hash',\n",
       "                  'Parent Relationship': 'Inner',\n",
       "                  'Parallel Aware': False,\n",
       "                  'Startup Cost': 12.5,\n",
       "                  'Total Cost': 12.5,\n",
       "                  'Plan Rows': 300,\n",
       "                  'Plan Width': 4,\n",
       "                  'Plans': [{'Node Type': 'Seq Scan',\n",
       "                    'Parent Relationship': 'Outer',\n",
       "                    'Parallel Aware': False,\n",
       "                    'Relation Name': 'promotion',\n",
       "                    'Alias': 'promotion',\n",
       "                    'Startup Cost': 0.0,\n",
       "                    'Total Cost': 12.5,\n",
       "                    'Plan Rows': 300,\n",
       "                    'Plan Width': 4,\n",
       "                    'Filter': \"((p_channel_email = 'N'::bpchar) OR (p_channel_event = 'N'::bpchar))\"}]}]},\n",
       "               {'Node Type': 'Index Scan',\n",
       "                'Parent Relationship': 'Inner',\n",
       "                'Parallel Aware': False,\n",
       "                'Scan Direction': 'Forward',\n",
       "                'Index Name': 'customer_demographics_pkey',\n",
       "                'Relation Name': 'customer_demographics',\n",
       "                'Alias': 'customer_demographics',\n",
       "                'Startup Cost': 0.43,\n",
       "                'Total Cost': 0.49,\n",
       "                'Plan Rows': 1,\n",
       "                'Plan Width': 4,\n",
       "                'Index Cond': '(cd_demo_sk = store_sales.ss_cdemo_sk)',\n",
       "                'Filter': \"((cd_gender = 'F'::bpchar) AND (cd_marital_status = 'M'::bpchar) AND (cd_education_status = '2 yr Degree'::bpchar))\"}]},\n",
       "             {'Node Type': 'Index Scan',\n",
       "              'Parent Relationship': 'Inner',\n",
       "              'Parallel Aware': False,\n",
       "              'Scan Direction': 'Forward',\n",
       "              'Index Name': 'item_pkey',\n",
       "              'Relation Name': 'item',\n",
       "              'Alias': 'item',\n",
       "              'Startup Cost': 0.29,\n",
       "              'Total Cost': 0.31,\n",
       "              'Plan Rows': 1,\n",
       "              'Plan Width': 21,\n",
       "              'Index Cond': '(i_item_sk = store_sales.ss_item_sk)'}]}]}]}]}]}]}}"
      ]
     },
     "execution_count": 6,
     "metadata": {},
     "output_type": "execute_result"
    }
   ],
   "source": [
    "plan_jsons[0]"
   ]
  },
  {
   "cell_type": "code",
   "execution_count": 9,
   "id": "41f80d89-977c-417f-b289-46da79e58584",
   "metadata": {
    "pycharm": {
     "name": "#%%\n"
    }
   },
   "outputs": [
    {
     "data": {
      "text/plain": [
       "{'Hash Join', 'Index Scan', 'Seq Scan'}"
      ]
     },
     "execution_count": 9,
     "metadata": {},
     "output_type": "execute_result"
    }
   ],
   "source": [
    "def find_operators_with_cond(plan_node):\n",
    "    operators_with_cond = set()\n",
    "\n",
    "    if 'Node Type' in plan_node:\n",
    "        result_string = ''.join(map(str, plan_node.keys()))\n",
    "        if 'Cond' in result_string or 'Filter' in result_string:\n",
    "            operators_with_cond.add(plan_node['Node Type'])\n",
    "            if plan_node['Node Type']=='Aggregate':\n",
    "                display(plan_node)\n",
    "\n",
    "    if 'Plans' in plan_node:\n",
    "        # 递归遍历子节点\n",
    "        for sub_plan in plan_node['Plans']:\n",
    "            operators_with_cond.update(find_operators_with_cond(sub_plan))\n",
    "\n",
    "    return operators_with_cond\n",
    "\n",
    "# 示例的 plan_jsons 是包含多个执行计划的列表\n",
    "# 这里使用 plan_jsons[4]['Plan'] 获取其中一个执行计划的根节点\n",
    "operators_with_cond_types = find_operators_with_cond(plan_jsons[0]['Plan'])\n",
    "\n",
    "# 打印结果\n",
    "operators_with_cond_types"
   ]
  },
  {
   "cell_type": "code",
   "execution_count": 8,
   "id": "17cac106-560b-42a5-aa4b-f845c8780299",
   "metadata": {
    "pycharm": {
     "name": "#%%\n"
    }
   },
   "outputs": [
    {
     "data": {
      "text/plain": [
       "['Aggregate_Filter_',\n",
       " 'Aggregate_Filter_',\n",
       " 'NestedLoop_JoinFilter_',\n",
       " 'NestedLoop_JoinFilter_',\n",
       " 'HashJoin_JoinFilter_HashCond_store_sales.ss_promo_sk=promotion.p_promo_sk',\n",
       " 'HashJoin_JoinFilter_HashCond_store_sales.ss_sold_date_sk=date_dim.d_date_sk',\n",
       " 'SeqScan_store_sales_Filter_',\n",
       " 'SeqScan_date_dim_Filter_d_year=',\n",
       " 'SeqScan_promotion_Filter_p_channel_email=::bpcharORp_channel_event=::bpchar',\n",
       " 'IndexScan_customer_demographics_Filter_cd_gender=::bpcharANDcd_marital_status=::bpcharANDcd_education_status=::bpcharIndexCond_cd_demo_sk=store_sales.ss_cdemo_sk',\n",
       " 'IndexScan_item_Filter_IndexCond_i_item_sk=store_sales.ss_item_sk']"
      ]
     },
     "execution_count": 8,
     "metadata": {},
     "output_type": "execute_result"
    }
   ],
   "source": [
    "from sql_feature.boo import BagOfPredicates\n",
    "\n",
    "boo_creator = BagOfPredicates()\n",
    "boo_creator.extract_operators_from_plan(plan_jsons[0][\"Plan\"])"
   ]
  },
  {
   "cell_type": "code",
   "execution_count": null,
   "id": "a78d1705-0a84-4572-90de-ae25a4ef498e",
   "metadata": {
    "pycharm": {
     "name": "#%%\n"
    }
   },
   "outputs": [],
   "source": []
  }
 ],
 "metadata": {
  "kernelspec": {
   "display_name": "Python [conda env:project]",
   "language": "python",
   "name": "conda-env-project-py"
  },
  "language_info": {
   "codemirror_mode": {
    "name": "ipython",
    "version": 3
   },
   "file_extension": ".py",
   "mimetype": "text/x-python",
   "name": "python",
   "nbconvert_exporter": "python",
   "pygments_lexer": "ipython3",
   "version": "3.8.18"
  }
 },
 "nbformat": 4,
 "nbformat_minor": 5
}
